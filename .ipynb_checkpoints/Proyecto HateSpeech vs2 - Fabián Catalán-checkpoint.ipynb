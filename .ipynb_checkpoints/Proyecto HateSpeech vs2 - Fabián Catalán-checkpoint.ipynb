{
 "cells": [
  {
   "cell_type": "markdown",
   "metadata": {},
   "source": [
    "### Realizar regresión Logistica, random forest, extra* -> red neuronal-> traducir textos a español.[REPETIR EN ESPAÑOL.]\n",
    "\n",
    "> [ HIPÓTESIS ] La traducción afecta al rendimiento del clasificador?\n",
    "\n",
    "Usar modelo transformer -> ingles a español **Tutorial 7**.\n",
    "\n",
    "\n",
    "## 8 de enero!"
   ]
  },
  {
   "cell_type": "markdown",
   "metadata": {},
   "source": [
    "### Basado en Automated Hate Speech Detection and the Problem of Offensive Language\n",
    "\n",
    "[https://data.world/thomasrdavidson/hate-speech-and-offensive-language](https://data.world/thomasrdavidson/hate-speech-and-offensive-language)\n",
    "\n",
    "Disclaimer WARNING: The data, lexicons, and notebooks all contain content that is racist, sexist, homophobic, and offensive in many other ways.\n",
    "\n",
    "### Data Guide\n",
    "\n",
    "The data are stored as a CSV, each data file contains 5 columns:\n",
    "\n",
    "**count** = number of CrowdFlower users who coded each tweet (min is 3, sometimes more users coded a tweet when judgments were determined to be unreliable by CF).\n",
    "\n",
    "**hate_speech** = number of CF users who judged the tweet to be hate speech.\n",
    "\n",
    "**offensive_language** = number of CF users who judged the tweet to be offensive.\n",
    "\n",
    "**neither** = number of CF users who judged the tweet to be neither offensive nor non-offensive.\n",
    "\n",
    "**class** = class label for majority of CF users.\n",
    "0 - hate speech,\n",
    "1 - offensive language,\n",
    "2 - neither\n",
    "\n"
   ]
  },
  {
   "cell_type": "code",
   "execution_count": 1,
   "metadata": {},
   "outputs": [],
   "source": [
    "import numpy as np # linear algebra\n",
    "import pandas as pd # data processing, CSV file I/O (e.g. pd.read_csv)\n",
    "\n",
    "from sklearn import preprocessing\n",
    "from sklearn.linear_model import LogisticRegression\n",
    "from sklearn.model_selection import train_test_split\n",
    "from sklearn import metrics \n",
    "from sklearn.metrics import confusion_matrix\n",
    "from sklearn.metrics import classification_report\n",
    "from sklearn import tree\n",
    "from sklearn.ensemble import RandomForestClassifier\n",
    "import matplotlib.pyplot as plt\n",
    "%matplotlib inline"
   ]
  },
  {
   "cell_type": "code",
   "execution_count": 2,
   "metadata": {},
   "outputs": [
    {
     "data": {
      "text/html": [
       "<div>\n",
       "<style scoped>\n",
       "    .dataframe tbody tr th:only-of-type {\n",
       "        vertical-align: middle;\n",
       "    }\n",
       "\n",
       "    .dataframe tbody tr th {\n",
       "        vertical-align: top;\n",
       "    }\n",
       "\n",
       "    .dataframe thead th {\n",
       "        text-align: right;\n",
       "    }\n",
       "</style>\n",
       "<table border=\"1\" class=\"dataframe\">\n",
       "  <thead>\n",
       "    <tr style=\"text-align: right;\">\n",
       "      <th></th>\n",
       "      <th>1</th>\n",
       "      <th>2</th>\n",
       "      <th>3</th>\n",
       "      <th>4</th>\n",
       "      <th>5</th>\n",
       "      <th>6</th>\n",
       "    </tr>\n",
       "  </thead>\n",
       "  <tbody>\n",
       "    <tr>\n",
       "      <th>1</th>\n",
       "      <td>3</td>\n",
       "      <td>0</td>\n",
       "      <td>0</td>\n",
       "      <td>3</td>\n",
       "      <td>2</td>\n",
       "      <td>!!! RT @mayasolovely: As a woman you shouldn't...</td>\n",
       "    </tr>\n",
       "    <tr>\n",
       "      <th>2</th>\n",
       "      <td>3</td>\n",
       "      <td>0</td>\n",
       "      <td>3</td>\n",
       "      <td>0</td>\n",
       "      <td>1</td>\n",
       "      <td>!!!!! RT @mleew17: boy dats cold...tyga dwn ba...</td>\n",
       "    </tr>\n",
       "    <tr>\n",
       "      <th>3</th>\n",
       "      <td>3</td>\n",
       "      <td>0</td>\n",
       "      <td>3</td>\n",
       "      <td>0</td>\n",
       "      <td>1</td>\n",
       "      <td>!!!!!!! RT @UrKindOfBrand Dawg!!!! RT @80sbaby...</td>\n",
       "    </tr>\n",
       "    <tr>\n",
       "      <th>4</th>\n",
       "      <td>3</td>\n",
       "      <td>0</td>\n",
       "      <td>2</td>\n",
       "      <td>1</td>\n",
       "      <td>1</td>\n",
       "      <td>!!!!!!!!! RT @C_G_Anderson: @viva_based she lo...</td>\n",
       "    </tr>\n",
       "    <tr>\n",
       "      <th>5</th>\n",
       "      <td>6</td>\n",
       "      <td>0</td>\n",
       "      <td>6</td>\n",
       "      <td>0</td>\n",
       "      <td>1</td>\n",
       "      <td>!!!!!!!!!!!!! RT @ShenikaRoberts: The shit you...</td>\n",
       "    </tr>\n",
       "  </tbody>\n",
       "</table>\n",
       "</div>"
      ],
      "text/plain": [
       "   1  2  3  4  5                                                  6\n",
       "1  3  0  0  3  2  !!! RT @mayasolovely: As a woman you shouldn't...\n",
       "2  3  0  3  0  1  !!!!! RT @mleew17: boy dats cold...tyga dwn ba...\n",
       "3  3  0  3  0  1  !!!!!!! RT @UrKindOfBrand Dawg!!!! RT @80sbaby...\n",
       "4  3  0  2  1  1  !!!!!!!!! RT @C_G_Anderson: @viva_based she lo...\n",
       "5  6  0  6  0  1  !!!!!!!!!!!!! RT @ShenikaRoberts: The shit you..."
      ]
     },
     "execution_count": 2,
     "metadata": {},
     "output_type": "execute_result"
    }
   ],
   "source": [
    "#abrir el dataset\n",
    "d = pd.read_csv(\"hate1.csv\",header=None)\n",
    "#Eliminamos 1° columna y fila innecesarias\n",
    "if len(d.columns)> 6:\n",
    "    d = d.drop(d.columns[0], 1)\n",
    "    d = d.iloc[1:]\n",
    "d.head()"
   ]
  },
  {
   "cell_type": "code",
   "execution_count": 3,
   "metadata": {
    "scrolled": false
   },
   "outputs": [
    {
     "name": "stdout",
     "output_type": "stream",
     "text": [
      "<class 'pandas.core.frame.DataFrame'>\n",
      "RangeIndex: 24783 entries, 1 to 24783\n",
      "Data columns (total 6 columns):\n",
      " #   Column  Non-Null Count  Dtype \n",
      "---  ------  --------------  ----- \n",
      " 0   1       24783 non-null  object\n",
      " 1   2       24783 non-null  object\n",
      " 2   3       24783 non-null  object\n",
      " 3   4       24783 non-null  object\n",
      " 4   5       24783 non-null  object\n",
      " 5   6       24783 non-null  object\n",
      "dtypes: object(6)\n",
      "memory usage: 1.1+ MB\n"
     ]
    }
   ],
   "source": [
    "d.info() # database no nulo y balanceado, en primera instancia."
   ]
  },
  {
   "cell_type": "markdown",
   "metadata": {},
   "source": [
    "#### Cambiamos de posición la columna que clasifica el mensaje al final y reetiquetamos."
   ]
  },
  {
   "cell_type": "code",
   "execution_count": 4,
   "metadata": {
    "scrolled": true
   },
   "outputs": [
    {
     "data": {
      "text/html": [
       "<div>\n",
       "<style scoped>\n",
       "    .dataframe tbody tr th:only-of-type {\n",
       "        vertical-align: middle;\n",
       "    }\n",
       "\n",
       "    .dataframe tbody tr th {\n",
       "        vertical-align: top;\n",
       "    }\n",
       "\n",
       "    .dataframe thead th {\n",
       "        text-align: right;\n",
       "    }\n",
       "</style>\n",
       "<table border=\"1\" class=\"dataframe\">\n",
       "  <thead>\n",
       "    <tr style=\"text-align: right;\">\n",
       "      <th></th>\n",
       "      <th>count</th>\n",
       "      <th>hate_speech</th>\n",
       "      <th>offensive_language</th>\n",
       "      <th>neiter</th>\n",
       "      <th>message</th>\n",
       "      <th>class</th>\n",
       "    </tr>\n",
       "  </thead>\n",
       "  <tbody>\n",
       "    <tr>\n",
       "      <th>1</th>\n",
       "      <td>3</td>\n",
       "      <td>0</td>\n",
       "      <td>0</td>\n",
       "      <td>3</td>\n",
       "      <td>!!! RT @mayasolovely: As a woman you shouldn't...</td>\n",
       "      <td>2</td>\n",
       "    </tr>\n",
       "    <tr>\n",
       "      <th>2</th>\n",
       "      <td>3</td>\n",
       "      <td>0</td>\n",
       "      <td>3</td>\n",
       "      <td>0</td>\n",
       "      <td>!!!!! RT @mleew17: boy dats cold...tyga dwn ba...</td>\n",
       "      <td>1</td>\n",
       "    </tr>\n",
       "    <tr>\n",
       "      <th>3</th>\n",
       "      <td>3</td>\n",
       "      <td>0</td>\n",
       "      <td>3</td>\n",
       "      <td>0</td>\n",
       "      <td>!!!!!!! RT @UrKindOfBrand Dawg!!!! RT @80sbaby...</td>\n",
       "      <td>1</td>\n",
       "    </tr>\n",
       "    <tr>\n",
       "      <th>4</th>\n",
       "      <td>3</td>\n",
       "      <td>0</td>\n",
       "      <td>2</td>\n",
       "      <td>1</td>\n",
       "      <td>!!!!!!!!! RT @C_G_Anderson: @viva_based she lo...</td>\n",
       "      <td>1</td>\n",
       "    </tr>\n",
       "    <tr>\n",
       "      <th>5</th>\n",
       "      <td>6</td>\n",
       "      <td>0</td>\n",
       "      <td>6</td>\n",
       "      <td>0</td>\n",
       "      <td>!!!!!!!!!!!!! RT @ShenikaRoberts: The shit you...</td>\n",
       "      <td>1</td>\n",
       "    </tr>\n",
       "    <tr>\n",
       "      <th>...</th>\n",
       "      <td>...</td>\n",
       "      <td>...</td>\n",
       "      <td>...</td>\n",
       "      <td>...</td>\n",
       "      <td>...</td>\n",
       "      <td>...</td>\n",
       "    </tr>\n",
       "    <tr>\n",
       "      <th>24779</th>\n",
       "      <td>3</td>\n",
       "      <td>0</td>\n",
       "      <td>2</td>\n",
       "      <td>1</td>\n",
       "      <td>you's a muthaf***in lie &amp;#8220;@LifeAsKing: @2...</td>\n",
       "      <td>1</td>\n",
       "    </tr>\n",
       "    <tr>\n",
       "      <th>24780</th>\n",
       "      <td>3</td>\n",
       "      <td>0</td>\n",
       "      <td>1</td>\n",
       "      <td>2</td>\n",
       "      <td>you've gone and broke the wrong heart baby, an...</td>\n",
       "      <td>2</td>\n",
       "    </tr>\n",
       "    <tr>\n",
       "      <th>24781</th>\n",
       "      <td>3</td>\n",
       "      <td>0</td>\n",
       "      <td>3</td>\n",
       "      <td>0</td>\n",
       "      <td>young buck wanna eat!!.. dat nigguh like I ain...</td>\n",
       "      <td>1</td>\n",
       "    </tr>\n",
       "    <tr>\n",
       "      <th>24782</th>\n",
       "      <td>6</td>\n",
       "      <td>0</td>\n",
       "      <td>6</td>\n",
       "      <td>0</td>\n",
       "      <td>youu got wild bitches tellin you lies</td>\n",
       "      <td>1</td>\n",
       "    </tr>\n",
       "    <tr>\n",
       "      <th>24783</th>\n",
       "      <td>3</td>\n",
       "      <td>0</td>\n",
       "      <td>0</td>\n",
       "      <td>3</td>\n",
       "      <td>~~Ruffled | Ntac Eileen Dahlia - Beautiful col...</td>\n",
       "      <td>2</td>\n",
       "    </tr>\n",
       "  </tbody>\n",
       "</table>\n",
       "<p>24783 rows × 6 columns</p>\n",
       "</div>"
      ],
      "text/plain": [
       "      count hate_speech offensive_language neiter  \\\n",
       "1         3           0                  0      3   \n",
       "2         3           0                  3      0   \n",
       "3         3           0                  3      0   \n",
       "4         3           0                  2      1   \n",
       "5         6           0                  6      0   \n",
       "...     ...         ...                ...    ...   \n",
       "24779     3           0                  2      1   \n",
       "24780     3           0                  1      2   \n",
       "24781     3           0                  3      0   \n",
       "24782     6           0                  6      0   \n",
       "24783     3           0                  0      3   \n",
       "\n",
       "                                                 message class  \n",
       "1      !!! RT @mayasolovely: As a woman you shouldn't...     2  \n",
       "2      !!!!! RT @mleew17: boy dats cold...tyga dwn ba...     1  \n",
       "3      !!!!!!! RT @UrKindOfBrand Dawg!!!! RT @80sbaby...     1  \n",
       "4      !!!!!!!!! RT @C_G_Anderson: @viva_based she lo...     1  \n",
       "5      !!!!!!!!!!!!! RT @ShenikaRoberts: The shit you...     1  \n",
       "...                                                  ...   ...  \n",
       "24779  you's a muthaf***in lie &#8220;@LifeAsKing: @2...     1  \n",
       "24780  you've gone and broke the wrong heart baby, an...     2  \n",
       "24781  young buck wanna eat!!.. dat nigguh like I ain...     1  \n",
       "24782              youu got wild bitches tellin you lies     1  \n",
       "24783  ~~Ruffled | Ntac Eileen Dahlia - Beautiful col...     2  \n",
       "\n",
       "[24783 rows x 6 columns]"
      ]
     },
     "execution_count": 4,
     "metadata": {},
     "output_type": "execute_result"
    }
   ],
   "source": [
    "d = d[[1,2,3,4,6,5]]\n",
    "d.columns=['count', 'hate_speech', 'offensive_language', 'neiter', 'message', 'class']\n",
    "d"
   ]
  },
  {
   "cell_type": "markdown",
   "metadata": {},
   "source": [
    "#### Contamos las clases"
   ]
  },
  {
   "cell_type": "code",
   "execution_count": 5,
   "metadata": {
    "scrolled": true
   },
   "outputs": [
    {
     "data": {
      "text/plain": [
       "1    19190\n",
       "2     4163\n",
       "0     1430\n",
       "Name: class, dtype: int64"
      ]
     },
     "execution_count": 5,
     "metadata": {},
     "output_type": "execute_result"
    }
   ],
   "source": [
    "count_classes = d['class'].value_counts()\n",
    "count_classes"
   ]
  },
  {
   "cell_type": "markdown",
   "metadata": {},
   "source": [
    "# Análisis de sentimientos"
   ]
  },
  {
   "cell_type": "code",
   "execution_count": 6,
   "metadata": {},
   "outputs": [],
   "source": [
    "import pandas as pd\n",
    "\n",
    "from sklearn.feature_extraction.text import CountVectorizer,TfidfVectorizer\n",
    "from sklearn.base import TransformerMixin\n",
    "from sklearn.pipeline import Pipeline\n",
    "\n",
    "import spacy\n",
    "import string\n",
    "from spacy.lang.en.stop_words import STOP_WORDS\n",
    "from spacy.lang.en import English"
   ]
  },
  {
   "cell_type": "markdown",
   "metadata": {},
   "source": [
    "### Preprocesamiento léxico  con N-gramas (estadístico)\n",
    "\n",
    "> **spacy_tokenizer** generará un vector de palabras dividido\n",
    "\n",
    "> **bow_vector** vectorizará las palabras de a dos (N-gramos) según su relevancia\n",
    "\n",
    "> **tfidf_vector** transforma los textos en vectores para tener los pesos TF-IDF de cada palabra en cada documento"
   ]
  },
  {
   "cell_type": "code",
   "execution_count": 7,
   "metadata": {},
   "outputs": [],
   "source": [
    "# Create our list of punctuation marks\n",
    "punctuations = string.punctuation\n",
    "\n",
    "# Create our list of stopwords\n",
    "stop_words=\"\"\n",
    "\n",
    "# Load English tokenizer, tagger, parser, NER and word vectors\n",
    "parser = English()\n",
    "\n",
    "# Creating our tokenizer function\n",
    "def spacy_tokenizer(sentence):\n",
    "    # Creating our token object, which is used to create documents with linguistic annotations.\n",
    "    mytokens = parser(sentence)\n",
    "\n",
    "    # Lemmatizing each token and converting each token into lowercase\n",
    "    mytokens = [ word.lemma_.lower().strip() if word.lemma_ != \"-PRON-\" else word.lower_ for word in mytokens ]\n",
    "\n",
    "    # Removing stop words\n",
    "    mytokens = [ word for word in mytokens if word not in stop_words and word not in punctuations ]\n",
    "\n",
    "    # return preprocessed list of tokens\n",
    "    return mytokens"
   ]
  },
  {
   "cell_type": "code",
   "execution_count": 8,
   "metadata": {},
   "outputs": [
    {
     "data": {
      "text/plain": [
       "CountVectorizer(tokenizer=<function spacy_tokenizer at 0x7fd4887a9280>)"
      ]
     },
     "execution_count": 8,
     "metadata": {},
     "output_type": "execute_result"
    }
   ],
   "source": [
    "bow_vector = CountVectorizer(tokenizer = spacy_tokenizer, ngram_range=(1,1))\n",
    "bow_vector"
   ]
  },
  {
   "cell_type": "code",
   "execution_count": 9,
   "metadata": {},
   "outputs": [],
   "source": [
    "tfidf_vector = TfidfVectorizer(tokenizer = spacy_tokenizer)"
   ]
  },
  {
   "cell_type": "code",
   "execution_count": null,
   "metadata": {},
   "outputs": [],
   "source": []
  },
  {
   "cell_type": "markdown",
   "metadata": {},
   "source": [
    "### Partición de dataset"
   ]
  },
  {
   "cell_type": "code",
   "execution_count": 10,
   "metadata": {},
   "outputs": [],
   "source": [
    "X = d['message'] # tweets \n",
    "y = d['class']   # clasificación\n",
    "X_train, X_test, y_train, y_test = train_test_split(X, y, test_size = .45, random_state=25)"
   ]
  },
  {
   "cell_type": "markdown",
   "metadata": {},
   "source": [
    "# Entrenamiento de dataset\n"
   ]
  },
  {
   "cell_type": "markdown",
   "metadata": {},
   "source": [
    "## Regresión Logística"
   ]
  },
  {
   "cell_type": "code",
   "execution_count": 11,
   "metadata": {
    "scrolled": true
   },
   "outputs": [
    {
     "data": {
      "text/plain": [
       "Pipeline(steps=[('preprocessing',\n",
       "                 CountVectorizer(tokenizer=<function spacy_tokenizer at 0x7fd4887a9280>)),\n",
       "                ('regression-ML', LogisticRegression(max_iter=1000))])"
      ]
     },
     "execution_count": 11,
     "metadata": {},
     "output_type": "execute_result"
    }
   ],
   "source": [
    "\n",
    "# Logistic Regression Classifier\n",
    "from sklearn.linear_model import LogisticRegression\n",
    "modelLR = LogisticRegression(solver='lbfgs', max_iter=1000) # parámetros para evitar errores de iteración\n",
    "\n",
    "# Create pipeline using Bag of Words\n",
    "pipe = Pipeline([('preprocessing', bow_vector),\n",
    "                 ('regression-ML', modelLR)])\n",
    "\n",
    "# model generation\n",
    "pipe.fit(X_train,y_train)"
   ]
  },
  {
   "cell_type": "markdown",
   "metadata": {},
   "source": [
    "#### Evaluación del modelo\n",
    "\n",
    "Podemos evaluar el rendimiento de nuestro modelo usando el módulo de métricas de scikit-learn. Ahora que hemos entrenado nuestro modelo, pondremos nuestros datos de prueba a disposición para hacer predicciones. Luego usaremos varias funciones del módulo de métricas para ver la exactitud, precisión y recall de nuestro modelo."
   ]
  },
  {
   "cell_type": "code",
   "execution_count": 12,
   "metadata": {},
   "outputs": [
    {
     "name": "stdout",
     "output_type": "stream",
     "text": [
      "['1' '2' '2' ... '2' '1' '1']\n",
      "Logistic Regression Accuracy: 0.8945575181565498\n",
      "Logistic Regression Precision: 0.8945575181565498\n",
      "Logistic Regression Recall: 0.8945575181565498\n"
     ]
    }
   ],
   "source": [
    "\n",
    "from sklearn import metrics\n",
    "# Predicting with a test dataset\n",
    "predicted = pipe.predict(X_test)\n",
    "print(predicted)\n",
    "\n",
    "# Model Accuracy\n",
    "print(\"Logistic Regression Accuracy:\",metrics.accuracy_score(y_test, predicted))\n",
    "print(\"Logistic Regression Precision:\",metrics.precision_score(y_test, predicted, average='micro'))\n",
    "print(\"Logistic Regression Recall:\",metrics.recall_score(y_test, predicted, average='micro'))"
   ]
  },
  {
   "cell_type": "code",
   "execution_count": 13,
   "metadata": {},
   "outputs": [
    {
     "name": "stdout",
     "output_type": "stream",
     "text": [
      "[[ 137  413   64]\n",
      " [ 143 8257  258]\n",
      " [  20  278 1583]]\n",
      "              precision    recall  f1-score   support\n",
      "\n",
      "           0       0.46      0.22      0.30       614\n",
      "           1       0.92      0.95      0.94      8658\n",
      "           2       0.83      0.84      0.84      1881\n",
      "\n",
      "    accuracy                           0.89     11153\n",
      "   macro avg       0.74      0.67      0.69     11153\n",
      "weighted avg       0.88      0.89      0.89     11153\n",
      "\n"
     ]
    }
   ],
   "source": [
    "#Evaluación del rendimiento del clasificador\n",
    "from sklearn.metrics import confusion_matrix\n",
    "confusion_matrix = confusion_matrix(y_test, predicted)\n",
    "print(confusion_matrix)\n",
    "#Print de la matriz de confusión\n",
    "from sklearn.metrics import classification_report\n",
    "print(classification_report(y_test, predicted))"
   ]
  },
  {
   "cell_type": "code",
   "execution_count": 14,
   "metadata": {},
   "outputs": [],
   "source": [
    "\n",
    "def printNMostInformative(vectorizer, model, N):\n",
    "    feature_names = vectorizer.get_feature_names()\n",
    "    coefs_with_fns = sorted(zip(model.coef_[0], feature_names))\n",
    "    topClass1 = coefs_with_fns[:N]\n",
    "    topClass2 = coefs_with_fns[:-(N + 1):-1]\n",
    "    print(\"Class 1 best: \")\n",
    "    for feat in topClass1:\n",
    "        print(feat)\n",
    "    print(\"Class 2 best: \")\n",
    "    for feat in topClass2:\n",
    "        print(feat)"
   ]
  },
  {
   "cell_type": "code",
   "execution_count": 15,
   "metadata": {},
   "outputs": [
    {
     "name": "stdout",
     "output_type": "stream",
     "text": [
      "Class 1 best: \n",
      "(-1.2172576985379937, 'bird')\n",
      "(-0.9325509360293304, 'imma')\n",
      "(-0.813715662921115, 'remember')\n",
      "(-0.7968451014006322, 'ho')\n",
      "(-0.7921762177220638, 'birds')\n",
      "(-0.7896245992880705, 'charlie')\n",
      "(-0.7642825242895863, 'crazy')\n",
      "(-0.7459865448355021, 'its')\n",
      "(-0.6921438986726948, 'yellow')\n",
      "(-0.6878548898299696, 'weed')\n",
      "(-0.6743548047900063, 'woman')\n",
      "(-0.6622771136407989, 'girls')\n",
      "(-0.6438012085947404, '@ivanrabago')\n",
      "(-0.6429506789381668, 'til')\n",
      "(-0.6415810436620708, 'love')\n",
      "(-0.6405212992654807, 'red')\n",
      "(-0.6335319750614081, 'after')\n",
      "(-0.6314268450587154, 'hard')\n",
      "(-0.6309556853832609, 'great')\n",
      "(-0.6185010080275121, 'single')\n",
      "Class 2 best: \n",
      "(2.4334250390032315, 'faggot')\n",
      "(2.238845917901955, 'nigger')\n",
      "(2.170525625455344, 'fag')\n",
      "(2.1503749693819487, 'niggers')\n",
      "(2.0609249182638956, 'nigga')\n",
      "(1.9196117835156117, 'faggots')\n",
      "(1.8071335056339664, 'fags')\n",
      "(1.7293837046719647, 'dyke')\n",
      "(1.5888244033064869, 'fuck')\n",
      "(1.5737963098636247, 'queer')\n",
      "(1.5713616724127986, 'white')\n",
      "(1.5448913886110813, 'coon')\n",
      "(1.4168377223109745, 'niggas')\n",
      "(1.3929865036164968, 'queers')\n",
      "(1.3705599069146226, 'chink')\n",
      "(1.3567810145288817, 'fucking')\n",
      "(1.338972587567473, 'gook')\n",
      "(1.3269691296193933, 'wetback')\n",
      "(1.2867719700499798, 'race')\n",
      "(1.2705777960514004, 'ass')\n"
     ]
    }
   ],
   "source": [
    "\n",
    "printNMostInformative(bow_vector, modelLR, 20)"
   ]
  },
  {
   "cell_type": "markdown",
   "metadata": {},
   "source": [
    "### Limitaciones de los modelos de lenguaje N-Grama\n",
    "\n",
    "1) Un modelo de lenguaje N-Grama con un valor N mayor es más preciso pero genera problemas de computación.\n",
    "\n",
    "2) Los modelos N-gramas son representaciones escasa/ingenua del lenguaje. Solo consideran la forma de las palabras y no su significado/semántica\n",
    "\n",
    "Para mejorar estas limitaciones:\n",
    "\n",
    "Word Embedding (proyección semántica de las palabras a través de vectores): Word2Vec, GLoVe\n",
    "\n",
    "Modelos de lenguaje neuronales: BERT, GPT-2, GPT-3\n",
    "\n",
    "# Word Embedding\n",
    "\n",
    "### Def:\n",
    "El concepto de word embedding se refiere a un conjunto de técnicas utilizadas para aprender representaciones matemáticas, tipicamente vectores, de cada palabra.\n",
    "\n",
    "Una de las técnicas más populares es Word2Vec propuesto por un equipo de investigación de Google en 2013 (Efficient Estimation of Word Representations in Vector Space [Mikolov et al., 2013]).\n",
    "\n",
    "Alternativas populares son GloVe (propuesta por la Universidad de Stanford en 2014) y FastText (propuesta por Facebook en 2016), que extende Word2Vec para considerar de mejor manera las palabras con errores ortográficas.\n",
    "\n",
    "Se empleará el algoritmo **CBOW** para vectorizar las probabilidades de los textos de pertenecer a ciertas clases de palabras, empleando **word2vec** de Gensim"
   ]
  },
  {
   "cell_type": "code",
   "execution_count": 16,
   "metadata": {},
   "outputs": [
    {
     "data": {
      "text/plain": [
       "1        !!! RT @mayasolovely: As a woman you shouldn't...\n",
       "2        !!!!! RT @mleew17: boy dats cold...tyga dwn ba...\n",
       "3        !!!!!!! RT @UrKindOfBrand Dawg!!!! RT @80sbaby...\n",
       "4        !!!!!!!!! RT @C_G_Anderson: @viva_based she lo...\n",
       "5        !!!!!!!!!!!!! RT @ShenikaRoberts: The shit you...\n",
       "                               ...                        \n",
       "24779    you's a muthaf***in lie &#8220;@LifeAsKing: @2...\n",
       "24780    you've gone and broke the wrong heart baby, an...\n",
       "24781    young buck wanna eat!!.. dat nigguh like I ain...\n",
       "24782                youu got wild bitches tellin you lies\n",
       "24783    ~~Ruffled | Ntac Eileen Dahlia - Beautiful col...\n",
       "Name: message, Length: 24783, dtype: object"
      ]
     },
     "execution_count": 16,
     "metadata": {},
     "output_type": "execute_result"
    }
   ],
   "source": [
    "X = d['message']\n",
    "X"
   ]
  },
  {
   "cell_type": "code",
   "execution_count": 17,
   "metadata": {},
   "outputs": [],
   "source": [
    "from gensim.models import word2vec\n",
    "#sentences = word2vec.Text8Corpus(X) "
   ]
  },
  {
   "cell_type": "markdown",
   "metadata": {},
   "source": [
    "## Word2vec implementation\n",
    "\n",
    "[https://github.com/rahul1728jha/Word2Vec_Implementation/blob/master/Word_2_Vec.ipynb](https://github.com/rahul1728jha/Word2Vec_Implementation/blob/master/Word_2_Vec.ipynb)"
   ]
  },
  {
   "cell_type": "code",
   "execution_count": 18,
   "metadata": {},
   "outputs": [],
   "source": [
    "from sklearn.manifold import TSNE\n",
    "import pandas as pd\n",
    "import re\n",
    "from IPython.display import display, HTML"
   ]
  },
  {
   "cell_type": "code",
   "execution_count": 19,
   "metadata": {},
   "outputs": [],
   "source": [
    "def generate_dictinoary_data(text):\n",
    "    word_to_index= dict()\n",
    "    index_to_word = dict()\n",
    "    corpus = []\n",
    "    count = 0\n",
    "    vocab_size = 0\n",
    "    \n",
    "    for row in text:\n",
    "        for word in row.split():\n",
    "            word = word.lower()\n",
    "            corpus.append(word)\n",
    "            if word_to_index.get(word) == None:\n",
    "                word_to_index.update ( {word : count})\n",
    "                index_to_word.update ( {count : word })\n",
    "                count  += 1\n",
    "    vocab_size = len(word_to_index)\n",
    "    length_of_corpus = len(corpus)\n",
    "    \n",
    "    return word_to_index,index_to_word,corpus,vocab_size,length_of_corpus"
   ]
  },
  {
   "cell_type": "code",
   "execution_count": 20,
   "metadata": {},
   "outputs": [],
   "source": [
    "def get_one_hot_vectors(target_word,context_words,vocab_size,word_to_index):\n",
    "    \n",
    "    #Create an array of size = vocab_size filled with zeros\n",
    "    trgt_word_vector = np.zeros(vocab_size)\n",
    "    \n",
    "    #Get the index of the target_word according to the dictionary word_to_index. \n",
    "    #If target_word = best, the index according to the dictionary word_to_index is 0. \n",
    "    #So the one hot vector will be [1, 0, 0, 0, 0, 0, 0, 0, 0]\n",
    "    index_of_word_dictionary = word_to_index.get(target_word) \n",
    "    \n",
    "    #Set the index to 1\n",
    "    trgt_word_vector[index_of_word_dictionary] = 1\n",
    "    \n",
    "    #Repeat same steps for context_words but in a loop\n",
    "    ctxt_word_vector = np.zeros(vocab_size)\n",
    "    \n",
    "    \n",
    "    for word in context_words:\n",
    "        index_of_word_dictionary = word_to_index.get(word) \n",
    "        ctxt_word_vector[index_of_word_dictionary] = 1\n",
    "        \n",
    "    return trgt_word_vector,ctxt_word_vector"
   ]
  },
  {
   "cell_type": "code",
   "execution_count": 21,
   "metadata": {},
   "outputs": [],
   "source": [
    "window_size = 2"
   ]
  },
  {
   "cell_type": "code",
   "execution_count": 22,
   "metadata": {},
   "outputs": [],
   "source": [
    "#Note : Below comments for trgt_word_index, ctxt_word_index are with the above sample text for understanding the code flow\n",
    "\n",
    "def generate_training_data(corpus,window_size,vocab_size,word_to_index,length_of_corpus,sample=None):\n",
    "\n",
    "    training_data =  []\n",
    "    training_sample_words =  []\n",
    "    for i,word in enumerate(corpus):\n",
    "\n",
    "        index_target_word = i\n",
    "        target_word = word\n",
    "        context_words = []\n",
    "\n",
    "        #when target word is the first word\n",
    "        if i == 0:  \n",
    "\n",
    "            # trgt_word_index:(0), ctxt_word_index:(1,2)\n",
    "            context_words = [corpus[x] for x in range(i + 1 , window_size + 1)] \n",
    "\n",
    "\n",
    "        #when target word is the last word\n",
    "        elif i == len(corpus)-1:\n",
    "\n",
    "            # trgt_word_index:(9), ctxt_word_index:(8,7), length_of_corpus = 10\n",
    "            context_words = [corpus[x] for x in range(length_of_corpus - 2 ,length_of_corpus -2 - window_size  , -1 )]\n",
    "\n",
    "        #When target word is the middle word\n",
    "        else:\n",
    "\n",
    "            #Before the middle target word\n",
    "            before_target_word_index = index_target_word - 1\n",
    "            for x in range(before_target_word_index, before_target_word_index - window_size , -1):\n",
    "                if x >=0:\n",
    "                    context_words.extend([corpus[x]])\n",
    "\n",
    "            #After the middle target word\n",
    "            after_target_word_index = index_target_word + 1\n",
    "            for x in range(after_target_word_index, after_target_word_index + window_size):\n",
    "                if x < len(corpus):\n",
    "                    context_words.extend([corpus[x]])\n",
    "\n",
    "\n",
    "        trgt_word_vector,ctxt_word_vector = get_one_hot_vectors(target_word,context_words,vocab_size,word_to_index)\n",
    "        training_data.append([trgt_word_vector,ctxt_word_vector])   \n",
    "        \n",
    "        if sample is not None:\n",
    "            training_sample_words.append([target_word,context_words])   \n",
    "        \n",
    "    return training_data,training_sample_words"
   ]
  },
  {
   "cell_type": "code",
   "execution_count": 23,
   "metadata": {},
   "outputs": [],
   "source": [
    "def forward_prop(weight_inp_hidden,weight_hidden_output,target_word_vector):\n",
    "    \n",
    "    #target_word_vector = x , weight_inp_hidden =  weights for input layer to hidden layer  \n",
    "    hidden_layer = np.dot(weight_inp_hidden.T, target_word_vector)\n",
    "    \n",
    "    #weight_hidden_output = weights for hidden layer to output layer\n",
    "    u = np.dot(weight_hidden_output.T, hidden_layer)\n",
    "    \n",
    "    y_predicted = softmax(u)\n",
    "    \n",
    "    return y_predicted, hidden_layer, u\n",
    "  \n",
    "def softmax(x):\n",
    "    e_x = np.exp(x - np.max(x))\n",
    "    return e_x / e_x.sum(axis=0)"
   ]
  },
  {
   "cell_type": "code",
   "execution_count": 24,
   "metadata": {},
   "outputs": [],
   "source": [
    "def calculate_error(y_pred,context_words):\n",
    "    \n",
    "    total_error = [None] * len(y_pred)\n",
    "    index_of_1_in_context_words = {}\n",
    "    \n",
    "    for index in np.where(context_words == 1)[0]:\n",
    "        index_of_1_in_context_words.update ( {index : 'yes'} )\n",
    "        \n",
    "    number_of_1_in_context_vector = len(index_of_1_in_context_words)\n",
    "    \n",
    "    for i,value in enumerate(y_pred):\n",
    "        \n",
    "        if index_of_1_in_context_words.get(i) != None:\n",
    "            total_error[i]= (value-1) + ( (number_of_1_in_context_vector -1) * value)\n",
    "        else:\n",
    "            total_error[i]= (number_of_1_in_context_vector * value)\n",
    "            \n",
    "            \n",
    "    return  np.array(total_error)"
   ]
  },
  {
   "cell_type": "code",
   "execution_count": 25,
   "metadata": {},
   "outputs": [],
   "source": [
    "\n",
    "def backward_prop(weight_inp_hidden,weight_hidden_output,total_error, hidden_layer, target_word_vector,learning_rate):\n",
    "    \n",
    "    dl_weight_inp_hidden = np.outer(target_word_vector, np.dot(weight_hidden_output, total_error.T))\n",
    "    dl_weight_hidden_output = np.outer(hidden_layer, total_error)\n",
    "    \n",
    "    # Update weights\n",
    "    weight_inp_hidden = weight_inp_hidden - (learning_rate * dl_weight_inp_hidden)\n",
    "    weight_hidden_output = weight_hidden_output - (learning_rate * dl_weight_hidden_output)\n",
    "    \n",
    "    return weight_inp_hidden,weight_hidden_output"
   ]
  },
  {
   "cell_type": "code",
   "execution_count": 26,
   "metadata": {},
   "outputs": [],
   "source": [
    "_word_to_index,_index_to_word,_corpus,_vocab_size,_length_of_corpus = [[],[],[],[],[]]\n",
    "\n",
    "for x in X:\n",
    "    wti,itw,c,vz,loc = generate_dictinoary_data(x)\n",
    "    _word_to_index.append(wti)\n",
    "    _index_to_word.append(itw)\n",
    "    _corpus.append(c)\n",
    "    _vocab_size.append(vz)\n",
    "    _length_of_corpus.append(loc)\n",
    "    "
   ]
  },
  {
   "cell_type": "code",
   "execution_count": null,
   "metadata": {},
   "outputs": [],
   "source": []
  },
  {
   "cell_type": "code",
   "execution_count": 27,
   "metadata": {},
   "outputs": [],
   "source": [
    "\n",
    "def calculate_error(y_pred,context_words):\n",
    "    \n",
    "    total_error = [None] * len(y_pred)\n",
    "    index_of_1_in_context_words = {}\n",
    "    \n",
    "    for index in np.where(context_words == 1)[0]:\n",
    "        index_of_1_in_context_words.update ( {index : 'yes'} )\n",
    "        \n",
    "    number_of_1_in_context_vector = len(index_of_1_in_context_words)\n",
    "    \n",
    "    for i,value in enumerate(y_pred):\n",
    "        \n",
    "        if index_of_1_in_context_words.get(i) != None:\n",
    "            total_error[i]= (value-1) + ( (number_of_1_in_context_vector -1) * value)\n",
    "        else:\n",
    "            total_error[i]= (number_of_1_in_context_vector * value)\n",
    "            \n",
    "            \n",
    "    return  np.array(total_error)"
   ]
  },
  {
   "cell_type": "code",
   "execution_count": 28,
   "metadata": {},
   "outputs": [],
   "source": [
    "\n",
    "def calculate_loss(u,ctx):\n",
    "    \n",
    "    sum_1 = 0\n",
    "    for index in np.where(ctx==1)[0]:\n",
    "        sum_1 = sum_1 + u[index]\n",
    "    \n",
    "    sum_1 = -sum_1\n",
    "    sum_2 = len(np.where(ctx==1)[0]) * np.log(np.sum(np.exp(u)))\n",
    "    \n",
    "    total_loss = sum_1 + sum_2\n",
    "    return total_loss"
   ]
  },
  {
   "cell_type": "code",
   "execution_count": null,
   "metadata": {},
   "outputs": [],
   "source": []
  },
  {
   "cell_type": "code",
   "execution_count": 29,
   "metadata": {},
   "outputs": [],
   "source": [
    "def train(word_embedding_dimension,window_size,epochs,training_data,learning_rate,disp = 'no',interval=-1):\n",
    "    \n",
    "    weights_input_hidden = np.random.uniform(-1, 1, (vocab_size, word_embedding_dimension))\n",
    "    weights_hidden_output = np.random.uniform(-1, 1, (word_embedding_dimension, vocab_size))\n",
    "    \n",
    "    \n",
    "    #For analysis purposes\n",
    "    epoch_loss = []\n",
    "    weights_1 = []\n",
    "    weights_2 = []\n",
    "    \n",
    "    for epoch in range(epochs):\n",
    "        loss = 0\n",
    "\n",
    "        for target,context in training_data:\n",
    "            y_pred, hidden_layer, u = forward_prop(weights_input_hidden,weights_hidden_output,target)\n",
    "\n",
    "            total_error = calculate_error(y_pred, context)\n",
    "\n",
    "            weights_input_hidden,weights_hidden_output = backward_prop(\n",
    "                weights_input_hidden,weights_hidden_output ,total_error, hidden_layer, target,learning_rate\n",
    "            )\n",
    "\n",
    "            loss_temp = calculate_loss(u,context)\n",
    "            loss += loss_temp\n",
    "        \n",
    "        epoch_loss.append( loss )\n",
    "        weights_1.append(weights_input_hidden)\n",
    "        weights_2.append(weights_hidden_output)\n",
    "        \n",
    "        if disp == 'yes':\n",
    "            if epoch ==0 or epoch % interval ==0 or epoch == epochs -1:\n",
    "                print('Epoch: %s. Loss:%s' %(epoch,loss))\n",
    "    return epoch_loss,np.array(weights_1),np.array(weights_2)"
   ]
  },
  {
   "cell_type": "code",
   "execution_count": 30,
   "metadata": {},
   "outputs": [],
   "source": [
    "#model inferernce"
   ]
  },
  {
   "cell_type": "code",
   "execution_count": 31,
   "metadata": {},
   "outputs": [],
   "source": [
    "# Input vector, returns nearest word(s)\n",
    "def cosine_similarity(word,weight,word_to_index,vocab_size,index_to_word):\n",
    "    \n",
    "    #Get the index of the word from the dictionary\n",
    "    index = word_to_index[word]\n",
    "    \n",
    "    #Get the correspondin weights for the word\n",
    "    word_vector_1 = weight[index]\n",
    "    \n",
    "    \n",
    "    word_similarity = {}\n",
    "\n",
    "    for i in range(vocab_size):\n",
    "        \n",
    "        word_vector_2 = weight[i]\n",
    "        \n",
    "        theta_sum = np.dot(word_vector_1, word_vector_2)\n",
    "        theta_den = np.linalg.norm(word_vector_1) * np.linalg.norm(word_vector_2)\n",
    "        theta = theta_sum / theta_den\n",
    "        \n",
    "        word = index_to_word[i]\n",
    "        word_similarity[word] = theta\n",
    "    \n",
    "    return word_similarity #words_sorted"
   ]
  },
  {
   "cell_type": "code",
   "execution_count": 32,
   "metadata": {},
   "outputs": [],
   "source": [
    "def print_similar_words(top_n_words,weight,msg,words_subset):\n",
    "    \n",
    "    columns=[]\n",
    "    \n",
    "    for i in range(0,len(words_subset)):\n",
    "        columns.append('similar:' +str(i+1) )\n",
    "        \n",
    "    df = pd.DataFrame(columns=columns,index=words_subset)\n",
    "    df.head()\n",
    "    \n",
    "    row = 0\n",
    "    for word in words_subset:\n",
    "        \n",
    "        #Get the similarity matrix for the word: word\n",
    "        similarity_matrix = cosine_similarity(word,weight,word_to_index,vocab_size,index_to_word)\n",
    "        col = 0\n",
    "        \n",
    "        #Sort the top_n_words\n",
    "        words_sorted = dict(sorted(similarity_matrix.items(), key=lambda x: x[1], reverse=True)[1:top_n_words+1])\n",
    "        \n",
    "        #Create a dataframe to display the similarity matrix\n",
    "        for similar_word,similarity_value in words_sorted.items():\n",
    "            df.iloc[row][col] = (similar_word,round(similarity_value,2))\n",
    "            col += 1\n",
    "        row += 1\n",
    "    styles = [dict(selector='caption', \n",
    "    props=[('text-align', 'center'),('font-size', '20px'),('color', 'red')])] \n",
    "    df = df.style.set_properties(**\n",
    "                       {'color': 'green','border-color': 'blue','font-size':'14px'}\n",
    "                      ).set_table_styles(styles).set_caption(msg)\n",
    "    return df"
   ]
  },
  {
   "cell_type": "code",
   "execution_count": 33,
   "metadata": {},
   "outputs": [],
   "source": [
    "\n",
    "def word_similarity_scatter_plot(index_to_word,weight,plot_title,fig,axes):\n",
    "    \n",
    "    labels = []\n",
    "    tokens = []\n",
    "    \n",
    "    for key,value in index_to_word.items():\n",
    "        tokens.append(weight[key])\n",
    "        labels.append(value)\n",
    "        \n",
    "    #TSNE : Compressing the weights to 2 dimensions to plot the data\n",
    "    tsne_model = TSNE(perplexity=40, n_components=2, init='pca', n_iter=2500, random_state=23)\n",
    "    new_values = tsne_model.fit_transform(tokens)\n",
    "    \n",
    "    x = []\n",
    "    y = []\n",
    "    for value in new_values:\n",
    "        x.append(value[0])\n",
    "        y.append(value[1])\n",
    "    \n",
    "    \n",
    "    #plt.figure(figsize=(5, 5)) \n",
    "    for i in range(len(x)):\n",
    "        axes.scatter(x[i],y[i])\n",
    "        axes.annotate(labels[i],\n",
    "                     xy=(x[i], y[i]),\n",
    "                     xytext=(5, 2),\n",
    "                     textcoords='offset points',\n",
    "                     ha='right',\n",
    "                     va='bottom')\n",
    "    #plt.title(plot_title)\n",
    "    axes.set_title(plot_title, loc='center')"
   ]
  },
  {
   "cell_type": "code",
   "execution_count": 34,
   "metadata": {},
   "outputs": [],
   "source": [
    "\n",
    "def plot_epoch_loss(lbl,loss_epoch,plot_title,path):\n",
    "    colors = ['b', 'g', 'r', 'c', 'm', 'y', 'k', 'w']\n",
    "    i = 0\n",
    "    fig = plt.figure(figsize=(10, 5), facecolor='w', edgecolor='k',dpi=80)\n",
    "    plt.suptitle('Epoch vs Loss',fontsize=16)\n",
    "    \n",
    "    for key,loss in loss_epoch.items():\n",
    "        \n",
    "        \n",
    "        epoch_count = range(1, len(loss) + 1)\n",
    "\n",
    "        plt.plot(epoch_count, loss, 'r-',color=colors[i],linewidth=2.0,label = lbl + str(key))\n",
    "\n",
    "        plt.xlabel('Epoch')\n",
    "        plt.ylabel('Loss')\n",
    "        i += 1\n",
    "\n",
    "    plt.legend(framealpha=1, frameon=True,fontsize='large',edgecolor=\"inherit\",shadow=True)\n",
    "    plt.title(plot_title)\n",
    "    plt.savefig(path+plot_title +'.png')\n",
    "    plt.show()\n",
    "    plt.close()"
   ]
  },
  {
   "cell_type": "markdown",
   "metadata": {},
   "source": [
    "# Análisis"
   ]
  },
  {
   "cell_type": "code",
   "execution_count": 39,
   "metadata": {},
   "outputs": [],
   "source": [
    "\n",
    "path_to_save = 'output_images/epoc_loss_plot/'\n",
    "path_to_save_scatter_plot = 'output_images/word_similarity_scatter_plot/'"
   ]
  },
  {
   "cell_type": "code",
   "execution_count": 40,
   "metadata": {},
   "outputs": [],
   "source": [
    "\n",
    "window_size = 2\n",
    "epochs = 100\n",
    "learning_rate = 0.01\n",
    "text = ['Best way to success is through hardwork and persistence']\n",
    "\n",
    "word_to_index,index_to_word,corpus,vocab_size,length_of_corpus = generate_dictinoary_data(text)\n",
    "training_data,training_sample_words = generate_training_data(corpus,window_size,vocab_size,word_to_index,length_of_corpus)"
   ]
  },
  {
   "cell_type": "code",
   "execution_count": 41,
   "metadata": {},
   "outputs": [
    {
     "data": {
      "image/png": "[encoded data removed]",
      "text/plain": [
       "<Figure size 720x720 with 4 Axes>"
      ]
     },
     "metadata": {
      "needs_background": "light"
     },
     "output_type": "display_data"
    },
    {
     "data": {
      "image/png": "[encoded data removed]",
      "text/plain": [
       "<Figure size 800x400 with 1 Axes>"
      ]
     },
     "metadata": {},
     "output_type": "display_data"
    }
   ],
   "source": [
    "dimensions = [5,10,15,20]\n",
    "loss_epoch = {}\n",
    "fig, axes = plt.subplots(nrows=2, ncols=2,figsize=(10,10),)\n",
    "fig.suptitle(\"Plots for showing paramaters with varying dimension\", fontsize=16)\n",
    "row=0\n",
    "col=0\n",
    "for dim in dimensions:\n",
    "    \n",
    "    epoch_loss,weights_1,weights_2 = train(dim,window_size,epochs,training_data,learning_rate)\n",
    "    loss_epoch.update( {dim: epoch_loss} )\n",
    "    \n",
    "    word_similarity_scatter_plot(\n",
    "        index_to_word,\n",
    "        weights_1[epochs -1],\n",
    "        'dimension_' + str(dim) + '_epochs_' + str(epochs) + '_window_size_' +str(window_size),\n",
    "        fig,\n",
    "        axes[row][col]\n",
    "    )\n",
    "    if col == 1:\n",
    "        row += 1\n",
    "        col = 0\n",
    "    else:\n",
    "        col += 1\n",
    "\n",
    "plt.savefig(path_to_save_scatter_plot+'varying_dim' +'.png')        \n",
    "plt.show()\n",
    "\n",
    "plot_epoch_loss('dim:',loss_epoch,'epochs_' + str(epochs) + '_window_size_' +str(window_size),path_to_save)"
   ]
  },
  {
   "cell_type": "code",
   "execution_count": null,
   "metadata": {},
   "outputs": [],
   "source": []
  },
  {
   "cell_type": "code",
   "execution_count": null,
   "metadata": {},
   "outputs": [],
   "source": []
  },
  {
   "cell_type": "code",
   "execution_count": null,
   "metadata": {},
   "outputs": [],
   "source": []
  },
  {
   "cell_type": "code",
   "execution_count": null,
   "metadata": {},
   "outputs": [],
   "source": []
  }
 ],
 "metadata": {
  "kernelspec": {
   "display_name": "Python 3",
   "language": "python",
   "name": "python3"
  },
  "language_info": {
   "codemirror_mode": {
    "name": "ipython",
    "version": 3
   },
   "file_extension": ".py",
   "mimetype": "text/x-python",
   "name": "python",
   "nbconvert_exporter": "python",
   "pygments_lexer": "ipython3",
   "version": "3.8.3"
  }
 },
 "nbformat": 4,
 "nbformat_minor": 4
}
